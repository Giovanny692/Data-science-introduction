{
 "cells": [
  {
   "cell_type": "markdown",
   "metadata": {},
   "source": [
    "# Workshop 1\n",
    "\n",
    "Here you're gonna test your __data scientist junior__ skills. Read carefully each one of the problems, write your own test cases, and validate everything works as expected."
   ]
  },
  {
   "cell_type": "markdown",
   "metadata": {},
   "source": [
    "## 1. Regular Expressions\n",
    "\n",
    "As follows complete the code based on the __requirement__. There is a part `#YOUR CODE HERE` where you _should complete_ to accomplish the task. However, you _could_ change anything you want."
   ]
  },
  {
   "cell_type": "markdown",
   "metadata": {},
   "source": [
    "### Problem 1.1\n",
    "\n",
    "Find a list of all of all of the names in the following string using _regex_."
   ]
  },
  {
   "cell_type": "code",
   "execution_count": null,
   "metadata": {},
   "outputs": [],
   "source": [
    "import re\n",
    "def names():\n",
    "    simple_string = \"\"\"Amy is 5 years old, and her sister Mary is 2 years old. \n",
    "    Ruth and Peter, their parents, have 3 kids.\"\"\"\n",
    "\n",
    "    pattern = re.findall(r'[A-Z]',simple_string)\n",
    "    \n",
    "    return pattern"
   ]
  },
  {
   "cell_type": "code",
   "execution_count": null,
   "metadata": {},
   "outputs": [],
   "source": [
    "# example of test case\n",
    "assert len(names()) == 4, \"There are four names in the simple_string.\""
   ]
  },
  {
   "cell_type": "markdown",
   "metadata": {},
   "source": [
    "### Problem 1.2\n",
    "\n",
    "The _dataset file_ in [assets/grades.txt](./assets/grades.txt) contains a line separated _list of people_ with their __grade__ in a class. Create a _regex_ to generate a list of just those students who received a __B__ in the course."
   ]
  },
  {
   "cell_type": "code",
   "execution_count": null,
   "metadata": {},
   "outputs": [],
   "source": [
    "import re\n",
    "\n",
    "\n",
    "def grades():\n",
    "    with open(\"assets/grades.txt\", \"r\") as file:\n",
    "        grades = file.read()\n",
    "    # YOUR CODE HERE\n",
    "        nombres = []\n",
    "        lineas = grades.split('\\n')\n",
    "        for linea in lineas:\n",
    "         if re.search(r'B$|B $',linea):\n",
    "            nombres.append(linea)\n",
    "    return nombres\n",
    "    "
   ]
  },
  {
   "cell_type": "code",
   "execution_count": null,
   "metadata": {},
   "outputs": [],
   "source": [
    "# example of test case\n",
    "assert len(grades()) == 16"
   ]
  },
  {
   "cell_type": "markdown",
   "metadata": {},
   "source": [
    "### Problem 1.3\n",
    "\n",
    "Consider the standard _web log file_ in [assets/logdata.txt](./assets/logdata.txt). This _file_ records the _access_ a user makes when visiting a web page. Each __line of the log__ has the following _items_:\n",
    "\n",
    "- a __host__ (e.g., `146.204.224.152`)\n",
    "- a __user_name__ (e.g., `feest6811`. _Hint:_ sometimes the user name is missing! In this case, use `-` as the value for the username.)\n",
    "- the __time__ a request was made (e.g., `21/Jun/2019:15:45:24 -0700`)\n",
    "- the post __request type__ (e.g., `POST /incentivize HTTP/1.1`. _Note:_ not everything is a POST!)\n",
    "\n",
    "Your task is to convert this into a list of dictionaries, where each dictionary looks like the following:\n",
    "\n",
    "```python\n",
    "example_dict = {\"host\":\"146.204.224.152\", \n",
    "                \"user_name\":\"feest6811\", \n",
    "                \"time\":\"21/Jun/2019:15:45:24 -0700\",\n",
    "                \"request\":\"POST /incentivize HTTP/1.1\"}\n",
    "```"
   ]
  },
  {
   "cell_type": "code",
   "execution_count": null,
   "metadata": {},
   "outputs": [],
   "source": [
    "import re\n",
    "\n",
    "\n",
    "def logs():\n",
    "    with open(\"assets/logdata.txt\", \"r\") as file:\n",
    "        logdata = file.read()\n",
    "    actions = re.split(r\"\\n\", logdata)\n",
    "\n",
    "    logs_list = []\n",
    "\n",
    "    # YOUR CODE HERE\n",
    "    actions =actions[:-1]\n",
    "    for action in actions:\n",
    "        info = re.findall(r'(\\d+\\.\\d+\\.\\d+\\.\\d+) - (\\S+) \\[(.*?)\\] \"(.*?)\"',action)\n",
    "        register = {\"host\":info[0][0],\n",
    "                    \"user_name\":info[0][1],\n",
    "                    \"time\":info[0][2],\n",
    "                    \"request\":info[0][3]\n",
    "                    }\n",
    "        logs_list.append(register)\n",
    "    return logs_list"
   ]
  },
  {
   "cell_type": "code",
   "execution_count": null,
   "metadata": {},
   "outputs": [],
   "source": [
    "# example of test case\n",
    "one_item = {\n",
    "    \"host\": \"146.204.224.152\",\n",
    "    \"user_name\": \"feest6811\",\n",
    "    \"time\": \"21/Jun/2019:15:45:24 -0700\",\n",
    "    \"request\": \"POST /incentivize HTTP/1.1\",\n",
    "}\n",
    "assert (\n",
    "    one_item in logs()\n",
    "), \"Sorry, this item should be in the log results, check your formating\""
   ]
  },
  {
   "cell_type": "markdown",
   "metadata": {},
   "source": [
    "# 2. Descriptive Analysis\n",
    "\n",
    "For this section, you'll be looking at _2017 data on immunizations_ from the _CDC_. Your _datafile_ for next tasks is in [assets/NISPUF17.csv](./assets/NISPUF17.csv). A _data users guide_ for this, which you'll need to map the variables in the data to the questions being asked, is available at [assets/NIS-PUF17-DUG.pdf](./assets/NIS-PUF17-DUG.pdf)."
   ]
  },
  {
   "cell_type": "markdown",
   "metadata": {},
   "source": [
    "# Problem 2.1\n",
    "\n",
    "Write a function called _proportion\\_of\\_education_ which returns the proportion of __children__ in the dataset who had a mother with the education levels equal to less than high school ($<12$), high school ($12$), more than high school but not a college graduate ($>12$) and _college degree_.\n",
    "\n",
    "This _function_ should return a __dictionary__ in the form of (use the _correct numbers_, do not round numbers):\n",
    "\n",
    "```python\n",
    "{\n",
    "    \"less than high school\": 0.2,\n",
    "    \"high school\": 0.4,\n",
    "    \"more than high school but not college\": 0.2,\n",
    "    \"college\": 0.2\n",
    "}\n",
    "```"
   ]
  },
  {
   "cell_type": "markdown",
   "metadata": {},
   "source": []
  },
  {
   "cell_type": "markdown",
   "metadata": {},
   "source": [
    "    \"less than high school\": 0.2,\n",
    "    \"high school\": 0.4,\n",
    "    \"more than high school but not college\": 0.2,\n",
    "    \"college\": 0.2\n",
    "}\n",
    "```"
   ]
  },
  {
   "cell_type": "code",
   "execution_count": null,
   "metadata": {},
   "outputs": [],
   "source": [
    "import pandas as pd\n",
    "def proportion_of_education():\n",
    "    proportions = {}\n",
    "\n",
    "    # YOUR CODE HERE\n",
    "    peducation_csv=pd.read_csv(\"assets/NISPUF17.csv\")\n",
    "    education_levels=peducation_csv[\"EDUC1\"]\n",
    "    value_count=education_levels.value_counts()\n",
    "    proportions = {\n",
    "        \"less than high school\":float((value_count[1]*100)/len(education_levels)),\n",
    "        \"high school\":float((value_count[2]*100)/len(education_levels)),\n",
    "        \"more tha high school but not college\":float((value_count[3]*100)/len(education_levels)),\n",
    "        \"college\":float((value_count[4]*100)/len(education_levels))\n",
    "    }\n",
    "\n",
    "    return proportions"
   ]
  },
  {
   "cell_type": "code",
   "execution_count": null,
   "metadata": {},
   "outputs": [],
   "source": [
    "# example of test cases\n",
    "assert type(proportion_of_education()) == type({}), \"You must return a dictionary.\"\n",
    "assert (\n",
    "    len(proportion_of_education()) == 4\n",
    "), \"You have not returned a dictionary with four items in it.\""
   ]
  },
  {
   "cell_type": "markdown",
   "metadata": {},
   "source": [
    "## Problem 2.2\n",
    "\n",
    "Let's explore the relationship between being _fed breastmilk_ as a child and getting a seasonal _influenza vaccine_ from a healthcare provider. Return a __tuple__ of the _average number of influenza vaccines_ for those children we know received breastmilk as a child and those who know did not.\n",
    "\n",
    "This _function_ should return a __tuple__ in the form (use the _correct numbers_):\n",
    "\n",
    "```python\n",
    "(2.5, 0.1)\n",
    "```"
   ]
  },
  {
   "cell_type": "code",
   "execution_count": null,
   "metadata": {},
   "outputs": [],
   "source": [
    "def average_influenza_doses():\n",
    "    doses = ()\n",
    "    # YOUR CODE HERE\n",
    "    peducation_csv=pd.read_csv(\"assets/NISPUF17.csv\")\n",
    "    bfeeding = peducation_csv[[\"CBF_01\",\"P_NUMFLU\"]]\n",
    "    bfeeding.loc[:,\"P_NUMFLU\"]=bfeeding[\"P_NUMFLU\"].fillna(0)\n",
    "    breastfed = bfeeding[bfeeding[\"CBF_01\"] == 1][\"P_NUMFLU\"].astype(float).mean()\n",
    "    not_breastfed = bfeeding[bfeeding[\"CBF_01\"] == 2][\"P_NUMFLU\"].astype(float).mean()\n",
    "    doses = (float(breastfed),float(not_breastfed))\n",
    "    return doses"
   ]
  },
  {
   "cell_type": "code",
   "execution_count": null,
   "metadata": {},
   "outputs": [],
   "source": [
    "# example of test cases\n",
    "assert (\n",
    "    len(average_influenza_doses()) == 2\n",
    "), \"Return two values in a tuple, the first for yes and the second for no.\""
   ]
  },
  {
   "cell_type": "markdown",
   "metadata": {},
   "source": [
    "## Problem 2.3\n",
    "\n",
    "It would be interesting to see if there is any evidence of a link between _vaccine effectiveness_ and _sex of the child_. Calculate the _ratio of the number of children_ who contracted __chickenpox__ but _were vaccinated against it_ (at least one varicella dose) versus those who were vaccinated but did not contract _chicken pox_. Return results by _sex_.\n",
    "\n",
    "This _function_ should return a __dictionary__ in the form of (use the _correct numbers_):\n",
    "\n",
    "```python\n",
    "{\n",
    "    \"male\":0.2,\n",
    "    \"female\":0.4\n",
    "}\n",
    "```\n",
    "\n",
    "_Note:_ To aid in verification, the `chickenpox_by_sex()['female']` value the autograder is looking for starts with the digits `0.0077`.\n"
   ]
  },
  {
   "cell_type": "code",
   "execution_count": null,
   "metadata": {},
   "outputs": [],
   "source": [
    "def chickenpox_by_sex():\n",
    "\n",
    "    stats = {}\n",
    "     # YOUR CODE HERE\n",
    "    peducation_csv=pd.read_csv(\"assets/NISPUF17.csv\")\n",
    "    ckpox = peducation_csv[[\"SEX\",\"HAD_CPOX\",\"P_NUMVRC\"]]\n",
    "    ckpox.loc[:,\"P_NUMVRC\"]=ckpox[\"P_NUMVRC\"].fillna(0)\n",
    "    va_f = ckpox[(ckpox[\"SEX\"]==2) & (ckpox[\"HAD_CPOX\"]==1) & (ckpox[\"P_NUMVRC\"]!=0)]\n",
    "    nva_f = ckpox[(ckpox[\"SEX\"]==2) & (ckpox[\"HAD_CPOX\"]==2) & (ckpox[\"P_NUMVRC\"]!=0)]\n",
    "    va_m = ckpox[(ckpox[\"SEX\"]==1) & (ckpox[\"HAD_CPOX\"]==1) & (ckpox[\"P_NUMVRC\"]!=0)]\n",
    "    nva_m = ckpox[(ckpox[\"SEX\"]==1) & (ckpox[\"HAD_CPOX\"]==2) & (ckpox[\"P_NUMVRC\"]!=0)]\n",
    "    stats = {\n",
    "        \"male\":len(va_m)/len(nva_m),\n",
    "        \"female\":len(va_f)/len(nva_f)\n",
    "    }\n",
    "    return stats"
   ]
  },
  {
   "cell_type": "markdown",
   "metadata": {},
   "source": [
    "## Problem 2.4\n",
    "\n",
    "A __correlation__ is a _statistical relationship_ between two variables. If we wanted to know _if vaccines work_, we might look at the correlation between the use of the vaccine and whether it results in prevention of the infection or disease. In this task, you are to see if there is a correlation between _having had the chicken pox_ and the _number of chickenpox vaccine doses given_ (varicella).\n",
    "\n",
    "Some notes on interpreting the answer. The `had_chickenpox_column` is either $1$ (for _yes_) or $2$ (for _no_), and the `num_chickenpox_vaccine_column` is the number of doses a child has been given of the varicella vaccine. A _positive correlation_ (e.g., $corr > 0$) means that an increase in _had\\_chickenpox\\_column_ (which means more _no_’s) would also increase the values of _num\\_chickenpox\\_vaccine\\_column_ (which means _more doses of vaccine_). If there is a _negative correlation_ (e.g., $corr < 0$), it indicates that having had chickenpox is related to an increase in the number of vaccine doses.\n",
    "\n",
    "Also, $pval$ is the probability that we observe a correlation between _had\\_chickenpox\\_column_ and _num\\_chickenpox\\_vaccine\\_column_ which is greater than or equal to a particular value occurred by chance. A _small pval_ means that the observed correlation is highly unlikely to occur by chance. In this case, _pval_ should be very small (will end in $e-18$ indicating a very small number)."
   ]
  },
  {
   "cell_type": "code",
   "execution_count": 27,
   "metadata": {},
   "outputs": [],
   "source": [
    "import scipy.stats as stats\n",
    "import numpy as np\n",
    "import pandas as pd\n",
    "\n",
    "\n",
    "def corr_chickenpox():\n",
    "\n",
    "    # this is just an example dataframe\n",
    "    df = pd.DataFrame(\n",
    "        {\n",
    "            \"had_chickenpox_column\": np.random.randint(1, 3, size=(100)),\n",
    "            \"num_chickenpox_vaccine_column\": np.random.randint(0, 6, size=(100)),\n",
    "        }\n",
    "    )\n",
    "\n",
    "    # here is some stub code to actually run the correlation\n",
    "    corr, pval = stats.pearsonr(\n",
    "        df[\"had_chickenpox_column\"], df[\"num_chickenpox_vaccine_column\"]\n",
    "    )\n",
    "\n",
    "    # YOUR CODE HERE\n",
    "    df=pd.read_csv(\"assets/NISPUF17.csv\")\n",
    "    df=df[[\"HAD_CPOX\",\"P_NUMVRC\"]].dropna()\n",
    "    df = df[(df[\"HAD_CPOX\"]==1)|(df[\"HAD_CPOX\"]==2)]\n",
    "    df=df.rename(columns={\"HAD_CPOX\":\"had_chickenpox_column\",\"P_NUMVRC\":\"num_chickenpox_vaccine_column\"})\n",
    "    corr, pval = stats.pearsonr(\n",
    "        df[\"had_chickenpox_column\"], df[\"num_chickenpox_vaccine_column\"]\n",
    "    )\n",
    "    return corr"
   ]
  },
  {
   "cell_type": "code",
   "execution_count": 23,
   "metadata": {},
   "outputs": [],
   "source": [
    "# example of test cases\n",
    "assert (\n",
    "    -1 <= corr_chickenpox() <= 1\n",
    "), \"You must return a float number between -1.0 and 1.0.\""
   ]
  }
 ],
 "metadata": {
  "kernelspec": {
   "display_name": "data_science_course",
   "language": "python",
   "name": "python3"
  },
  "language_info": {
   "codemirror_mode": {
    "name": "ipython",
    "version": 3
   },
   "file_extension": ".py",
   "mimetype": "text/x-python",
   "name": "python",
   "nbconvert_exporter": "python",
   "pygments_lexer": "ipython3",
   "version": "3.12.3"
  }
 },
 "nbformat": 4,
 "nbformat_minor": 2
}
