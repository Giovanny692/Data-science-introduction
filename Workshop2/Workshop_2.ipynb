{
 "cells": [
  {
   "cell_type": "markdown",
   "metadata": {},
   "source": [
    "# WorkShop 2\n",
    "\n",
    "Let's play with pandas and answer \"stakeholders\" _questions_.\n",
    "\n",
    "Problems $2-13$ rely on your `Problem 1` answer."
   ]
  },
  {
   "cell_type": "markdown",
   "metadata": {},
   "source": [
    "## Problem  1\n",
    "\n",
    "Load the energy data from the file `assets/Energy Indicators.xls`, which is a list of indicators of [energy supply and renewable electricity production](assets/Energy%20Indicators.xls) from the [United Nations](http://unstats.un.org/unsd/environment/excel_file_tables/2013/Energy%20Indicators.xls) for the year 2013, and should be put into a DataFrame with the variable name of __energy_df__.\n",
    "\n",
    "Keep in mind that this is an _Excel file_, and not a _comma separated values file_. Also, make sure to _exclude_ the footer and header information from the datafile. The first _two columns_ are unneccessary, so you should get rid of them, and you should change the column labels so that the columns are:\n",
    "\n",
    "```python\n",
    "['Country', 'Energy Supply', 'Energy Supply per Capita', '% Renewable]\n",
    "```\n",
    "\n",
    "Convert `Energy Supply` to _gigajoules_ (there are $1000000$ _gigajoules_ in a _petajoule_**). For all countries which have missing data (_e.g._ data with \"...\") make sure this is reflected as `np.NaN` values.\n",
    "\n",
    "Rename the following list of countries (_for use in later questions_):\n",
    "\n",
    "```bash\n",
    "\"Republic of Korea\": \"South Korea\",\n",
    "\"United States of America\": \"United States\",\n",
    "\"United Kingdom of Great Britain and Northern Ireland\": \"United Kingdom\",\n",
    "\"China, Hong Kong Special Administrative Region\": \"Hong Kong\"\n",
    "```\n",
    "\n",
    "There are also several countries with parenthesis in their name. Be sure to _remove these_, e.g. `'Bolivia (Plurinational State of)'` should be `'Bolivia'`. Additionally, there are several countries with _Numeric digits_ in their name. Make sure to remove these as well, e.g. `'Italy9'` should be `'Italy'`. \n",
    "\n",
    "Next, load the GDP data from the file `assets/world_bank.csv`, which is a _csv_ containing countries' GDP from $1960$ to $2015$ from [World Bank](http://data.worldbank.org/indicator/NY.GDP.MKTP.CD). Call this DataFrame __gdp_df__. \n",
    "\n",
    "Make sure to _skip the header_, and _rename_ the following list of countries:\n",
    "\n",
    "```bash\n",
    "\"Korea, Rep.\": \"South Korea\", \n",
    "\"Iran, Islamic Rep.\": \"Iran\",\n",
    "\"Hong Kong SAR, China\": \"Hong Kong\"\n",
    "```\n",
    "\n",
    "Finally, load the [Scimago Journal and Country Rank data for Energy Engineering and Power Technology](http://www.scimagojr.com/countryrank.php?category=2102) from the file `assets/scimagojr-3.xlsx`, which ranks countries based on their _journal contributions_ in the aforementioned area. Call this DataFrame __scimago_df__.\n",
    "\n",
    "Join the _thrgoee datasets_: _energy\\_df_, _gdp\\_df_ and _scimago\\_df_, into a new dataset (using the _intersection_ of _country names_). Use only the _last_ $10$ years ($2006-2015$) of __GDP data__ and only the _top 15 countries_ by __Scimagojr 'Rank'__ (_Rank 1 through 15_). \n",
    "\n",
    "The _index_ of this DataFrame should be the __name__ of the country, and the _columns_ should be:\n",
    "`['Rank', 'Documents', 'Citable documents', 'Citations', 'Self-citations', 'Citations per document', 'H index', 'Energy Supply', 'Energy Supply per Capita', '% Renewable', '2006', '2007', '2008','2009', '2010', '2011', '2012', '2013', '2014', '2015']`.\n",
    "\n",
    "_This function should return a DataFrame with 20 columns and 15 entries, and the rows of the DataFrame should be sorted by \"Rank\"._"
   ]
  },
  {
   "cell_type": "code",
   "execution_count": 43,
   "metadata": {},
   "outputs": [
    {
     "name": "stdout",
     "output_type": "stream",
     "text": [
      "                    Energy Supply  Energy Supply per Capita  % Renewable  \\\n",
      "China                    127191.0                      93.0     19.75491   \n",
      "United States             90838.0                     286.0     11.57098   \n",
      "Japan                     18984.0                     149.0     10.23282   \n",
      "United Kingdom             7920.0                     124.0     10.60047   \n",
      "Russian Federation        30709.0                     214.0     17.28868   \n",
      "Canada                    10431.0                     296.0     61.94543   \n",
      "Germany                   13261.0                     165.0     17.90153   \n",
      "India                     33195.0                      26.0     14.96908   \n",
      "France                    10597.0                     166.0     17.02028   \n",
      "South Korea                   NaN                       NaN          NaN   \n",
      "Italy                      6530.0                     109.0     33.66723   \n",
      "Spain                      4923.0                     106.0     37.96859   \n",
      "Iran                          NaN                       NaN          NaN   \n",
      "Australia                  5386.0                     231.0     11.81081   \n",
      "Brazil                    12149.0                      59.0     69.64803   \n",
      "\n",
      "                            2006          2007          2009          2010  \\\n",
      "China               3.992331e+12  4.559041e+12  5.459247e+12  6.039659e+12   \n",
      "United States       1.479230e+13  1.505540e+13  1.459484e+13  1.496437e+13   \n",
      "Japan               5.496542e+12  5.617036e+12  5.251308e+12  5.498718e+12   \n",
      "United Kingdom      2.419631e+12  2.482203e+12  2.367048e+12  2.403504e+12   \n",
      "Russian Federation  1.385793e+12  1.504071e+12  1.459199e+12  1.524917e+12   \n",
      "Canada              1.564469e+12  1.596740e+12  1.565145e+12  1.613406e+12   \n",
      "Germany             3.332891e+12  3.441561e+12  3.283340e+12  3.417298e+12   \n",
      "India               1.265894e+12  1.374865e+12  1.549483e+12  1.708459e+12   \n",
      "France              2.607840e+12  2.669424e+12  2.595967e+12  2.646995e+12   \n",
      "South Korea         9.410199e+11  9.924316e+11  1.027730e+12  1.094499e+12   \n",
      "Italy               2.202170e+12  2.234627e+12  2.089938e+12  2.125185e+12   \n",
      "Spain               1.414823e+12  1.468146e+12  1.431475e+12  1.431673e+12   \n",
      "Iran                3.895523e+11  4.250646e+11  4.389208e+11  4.677902e+11   \n",
      "Australia           1.021939e+12  1.060340e+12  1.119654e+12  1.142251e+12   \n",
      "Brazil              1.845080e+12  1.957118e+12  2.054215e+12  2.208872e+12   \n",
      "\n",
      "                            2011          2012          2013          2014  \\\n",
      "China               6.612490e+12  7.124978e+12  7.672448e+12  8.230121e+12   \n",
      "United States       1.520402e+13  1.554216e+13  1.577367e+13  1.615662e+13   \n",
      "Japan               5.473738e+12  5.569102e+12  5.644659e+12  5.642884e+12   \n",
      "United Kingdom      2.450911e+12  2.479809e+12  2.533370e+12  2.605643e+12   \n",
      "Russian Federation  1.589943e+12  1.645876e+12  1.666934e+12  1.678709e+12   \n",
      "Canada              1.664087e+12  1.693133e+12  1.730688e+12  1.773486e+12   \n",
      "Germany             3.542371e+12  3.556724e+12  3.567317e+12  3.624386e+12   \n",
      "India               1.821872e+12  1.924235e+12  2.051982e+12  2.200617e+12   \n",
      "France              2.702032e+12  2.706968e+12  2.722567e+12  2.729632e+12   \n",
      "South Korea         1.134796e+12  1.160809e+12  1.194429e+12  1.234340e+12   \n",
      "Italy               2.137439e+12  2.077184e+12  2.040871e+12  2.033868e+12   \n",
      "Spain               1.417355e+12  1.380216e+12  1.357139e+12  1.375605e+12   \n",
      "Iran                4.853309e+11  4.532569e+11  4.445926e+11  4.639027e+11   \n",
      "Australia           1.169431e+12  1.211913e+12  1.241484e+12  1.272520e+12   \n",
      "Brazil              2.295245e+12  2.339209e+12  2.409740e+12  2.412231e+12   \n",
      "\n",
      "                            2015  Rank  Documents  Citable documents  \\\n",
      "China               8.797999e+12   1.0   127050.0           126767.0   \n",
      "United States       1.654857e+13   2.0    96661.0            94747.0   \n",
      "Japan               5.669563e+12   3.0    30504.0            30287.0   \n",
      "United Kingdom      2.666333e+12   4.0    20944.0            20357.0   \n",
      "Russian Federation  1.616149e+12   5.0    18534.0            18301.0   \n",
      "Canada              1.792609e+12   6.0    17899.0            17620.0   \n",
      "Germany             3.685556e+12   7.0    17027.0            16831.0   \n",
      "India               2.367206e+12   8.0    15005.0            14841.0   \n",
      "France              2.761185e+12   9.0    13153.0            12973.0   \n",
      "South Korea         1.266580e+12  10.0    11983.0            11923.0   \n",
      "Italy               2.049316e+12  11.0    10964.0            10794.0   \n",
      "Spain               1.419821e+12  12.0     9428.0             9330.0   \n",
      "Iran                         NaN  13.0     8896.0             8819.0   \n",
      "Australia           1.301251e+12  14.0     8831.0             8725.0   \n",
      "Brazil              2.319423e+12  15.0     8668.0             8596.0   \n",
      "\n",
      "                    Citations  Self-citations  Citations per document  H index  \n",
      "China                597237.0        411683.0                    4.70    138.0  \n",
      "United States        792274.0        265436.0                    8.20    230.0  \n",
      "Japan                223024.0         61554.0                    7.31    134.0  \n",
      "United Kingdom       206091.0         37874.0                    9.84    139.0  \n",
      "Russian Federation    34266.0         12422.0                    1.85     57.0  \n",
      "Canada               215003.0         40930.0                   12.01    149.0  \n",
      "Germany              140566.0         27426.0                    8.26    126.0  \n",
      "India                128763.0         37209.0                    8.58    115.0  \n",
      "France               130632.0         28601.0                    9.93    114.0  \n",
      "South Korea          114675.0         22595.0                    9.57    104.0  \n",
      "Italy                111850.0         26661.0                   10.20    106.0  \n",
      "Spain                123336.0         23964.0                   13.08    115.0  \n",
      "Iran                  57470.0         19125.0                    6.46     72.0  \n",
      "Australia             90765.0         15606.0                   10.28    107.0  \n",
      "Brazil                60702.0         14396.0                    7.00     86.0  \n"
     ]
    }
   ],
   "source": [
    "#!pip install xlrd\n",
    "#!pip install openpyxl\n",
    "import pandas as pd\n",
    "import numpy as np\n",
    "def generate_energy_df():\n",
    "    # YOUR CODE HERE load dataframe and remove header and footer\n",
    "    energy_df = pd.read_excel(\"assets/Energy Indicators.xls\",skiprows=17,skipfooter=38,usecols=[2, 3, 4, 5], names=[\"Country\", \"Energy Supply\", \"Energy Supply per Capita\", \"% Renewable\"], na_values=[\"...\"])\n",
    "    # YOUR CODE HERE transform data\n",
    "    energy_df[\"Country\"] = energy_df[\"Country\"].str.replace(r'[()]|\\d+',\"\",regex=True)\n",
    "    # YOUR CODE HERE transform Country column\n",
    "    new_names = {\n",
    "        \"Republic of Korea\":\"South korea\",\n",
    "        \"United States of America\":\"United States\",\n",
    "        \"United Kingdom of Great Britain and Northern Ireland\":\"United Kingdom\",\n",
    "        \"China, Hong Kong Special Administrative Region\":\"Hong Kong\"\n",
    "    }\n",
    "    energy_df=energy_df.replace(new_names)\n",
    "    return energy_df\n",
    "\n",
    "def get_GDP_df():\n",
    "    def is_number(s: str) -> bool:\n",
    "        \"\"\"\n",
    "        Check if a string is a number.\n",
    "\n",
    "        Args:\n",
    "            s (str): The string to check.\n",
    "\n",
    "        Returns:\n",
    "            A boolean indicating if the string is a number.\n",
    "        \"\"\"\n",
    "        try:\n",
    "            int(s)  \n",
    "            return True\n",
    "        except ValueError:\n",
    "            return False\n",
    "\n",
    "    # YOUR CODE HERE load data, remove header, adjust column names\n",
    "    gdp_df = pd.read_csv(\"assets/world_bank.csv\",skiprows=4)\n",
    "    # YOUR CODE HERE transform Country column \n",
    "    new_names ={\n",
    "        \"Korea, Rep.\": \"South Korea\", \n",
    "        \"Iran, Islamic Rep.\": \"Iran\",\n",
    "        \"Hong Kong SAR, China\": \"Hong Kong\"\n",
    "    }\n",
    "    gdp_df = gdp_df.replace(new_names)\n",
    "    return gdp_df\n",
    "\n",
    "def get_scimago_df():\n",
    "    # YOUR CODE HERE load data\n",
    "    scimago_df = pd.read_excel(\"assets/scimagojr-3.xlsx\")\n",
    "    return scimago_df\n",
    "\n",
    "def answer_one():\n",
    "    # YOUR CODE HERE\n",
    "    energy_df=generate_energy_df().set_index(\"Country\")\n",
    "    gdp_df=get_GDP_df()\n",
    "    gdp_df = gdp_df[[\"Country Name\",\"2006\",\"2007\",\"2009\",\"2010\",\"2011\",\"2012\",\"2013\",\"2014\",\"2015\"]].set_index(\"Country Name\")\n",
    "    schimago_df=get_scimago_df().set_index(\"Country\")\n",
    "    energy_df = energy_df.join(gdp_df,how=\"outer\")\n",
    "    energy_df = energy_df.join(schimago_df,how=\"outer\")\n",
    "    energy_df = energy_df[energy_df[\"Rank\"]<=15].sort_values(by=\"Rank\")\n",
    "    print(energy_df)\n",
    "prueba=answer_one()    "
   ]
  },
  {
   "cell_type": "code",
   "execution_count": null,
   "metadata": {},
   "outputs": [],
   "source": [
    "# example of test cases\n",
    "assert type(answer_one()) == pd.DataFrame, \"Q1: You should return a DataFrame!\"\n",
    "assert answer_one().shape == (15,20), \"Q1: Your DataFrame should have 20 columns and 15 entries!\""
   ]
  },
  {
   "cell_type": "code",
   "execution_count": null,
   "metadata": {},
   "outputs": [],
   "source": [
    "# space for proffesor tests"
   ]
  },
  {
   "cell_type": "markdown",
   "metadata": {},
   "source": [
    "## Problem 2\n",
    "\n",
    "The _Problem 1_ joined three datasets then reduced this to just the top $15$ entries. When you joined the datasets, but before you reduced this to the top $15$ items, how many entries did you lose?\n",
    "\n",
    "_This function should return a single number._"
   ]
  },
  {
   "cell_type": "code",
   "execution_count": 1,
   "metadata": {},
   "outputs": [
    {
     "data": {
      "text/html": [
       "<svg width=\"800\" height=\"300\">\n",
       "  <circle cx=\"150\" cy=\"180\" r=\"80\" fill-opacity=\"0.2\" stroke=\"black\" stroke-width=\"2\" fill=\"blue\" />\n",
       "  <circle cx=\"200\" cy=\"100\" r=\"80\" fill-opacity=\"0.2\" stroke=\"black\" stroke-width=\"2\" fill=\"red\" />\n",
       "  <circle cx=\"100\" cy=\"100\" r=\"80\" fill-opacity=\"0.2\" stroke=\"black\" stroke-width=\"2\" fill=\"green\" />\n",
       "  <line x1=\"150\" y1=\"125\" x2=\"300\" y2=\"150\" stroke=\"black\" stroke-width=\"2\" fill=\"black\" stroke-dasharray=\"5,3\"/>\n",
       "  <text x=\"300\" y=\"165\" font-family=\"Verdana\" font-size=\"35\">Everything but this!</text>\n",
       "</svg>\n"
      ],
      "text/plain": [
       "<IPython.core.display.HTML object>"
      ]
     },
     "metadata": {},
     "output_type": "display_data"
    }
   ],
   "source": [
    "%%HTML\n",
    "<svg width=\"800\" height=\"300\">\n",
    "  <circle cx=\"150\" cy=\"180\" r=\"80\" fill-opacity=\"0.2\" stroke=\"black\" stroke-width=\"2\" fill=\"blue\" />\n",
    "  <circle cx=\"200\" cy=\"100\" r=\"80\" fill-opacity=\"0.2\" stroke=\"black\" stroke-width=\"2\" fill=\"red\" />\n",
    "  <circle cx=\"100\" cy=\"100\" r=\"80\" fill-opacity=\"0.2\" stroke=\"black\" stroke-width=\"2\" fill=\"green\" />\n",
    "  <line x1=\"150\" y1=\"125\" x2=\"300\" y2=\"150\" stroke=\"black\" stroke-width=\"2\" fill=\"black\" stroke-dasharray=\"5,3\"/>\n",
    "  <text x=\"300\" y=\"165\" font-family=\"Verdana\" font-size=\"35\">Everything but this!</text>\n",
    "</svg>"
   ]
  },
  {
   "cell_type": "code",
   "execution_count": null,
   "metadata": {},
   "outputs": [],
   "source": [
    "def answer_two():\n",
    "    # YOUR CODE HERE\n",
    "    \n",
    "    raise NotImplementedError()"
   ]
  },
  {
   "cell_type": "code",
   "execution_count": null,
   "metadata": {},
   "outputs": [],
   "source": [
    "# example of test cases\n",
    "assert type(answer_two()) == int, \"Q2: You should return an int number!\""
   ]
  },
  {
   "cell_type": "code",
   "execution_count": null,
   "metadata": {},
   "outputs": [],
   "source": [
    "# space for proffesor tests"
   ]
  },
  {
   "cell_type": "markdown",
   "metadata": {},
   "source": [
    "## Problem 3\n",
    "\n",
    "What are the top $15$ countries for average GDP over the last $10$ years?\n",
    "\n",
    "_This function should return a Series named `avg_gdp` with $15$ countries and their average GDP sorted in descending order._"
   ]
  },
  {
   "cell_type": "code",
   "execution_count": null,
   "metadata": {},
   "outputs": [],
   "source": [
    "def answer_three():\n",
    "    # YOUR CODE HERE\n",
    "    raise NotImplementedError()"
   ]
  },
  {
   "cell_type": "code",
   "execution_count": null,
   "metadata": {},
   "outputs": [],
   "source": [
    "# example of test cases\n",
    "assert type(answer_three()) == pd.Series, \"Q3: You should return a Series!\""
   ]
  },
  {
   "cell_type": "code",
   "execution_count": null,
   "metadata": {},
   "outputs": [],
   "source": [
    "# space for proffesor tests"
   ]
  },
  {
   "cell_type": "markdown",
   "metadata": {},
   "source": [
    "# Problem 4\n",
    "\n",
    "By how much had the GDP changed over the $10$ year span for the country with the $6-th$ largest average GDP?\n",
    "\n",
    "_This function should return a single number._"
   ]
  },
  {
   "cell_type": "code",
   "execution_count": null,
   "metadata": {},
   "outputs": [],
   "source": [
    "def answer_four():\n",
    "    # YOUR CODE HERE\n",
    "    raise NotImplementedError()"
   ]
  },
  {
   "cell_type": "code",
   "execution_count": null,
   "metadata": {},
   "outputs": [],
   "source": [
    "# example of test cases\n",
    "assert type(answer_four()) == float, \"Q4: You should return a single number!\""
   ]
  },
  {
   "cell_type": "code",
   "execution_count": null,
   "metadata": {},
   "outputs": [],
   "source": [
    "# space for proffesor tests\n"
   ]
  },
  {
   "cell_type": "markdown",
   "metadata": {},
   "source": [
    "## Problem 5\n",
    "\n",
    "What is the _mean energy supply per capita_?\n",
    "\n",
    "_This function should return a single number._"
   ]
  },
  {
   "cell_type": "code",
   "execution_count": null,
   "metadata": {},
   "outputs": [],
   "source": [
    "def answer_five():\n",
    "    # YOUR CODE HERE\n",
    "    raise NotImplementedError()"
   ]
  },
  {
   "cell_type": "code",
   "execution_count": null,
   "metadata": {},
   "outputs": [],
   "source": [
    "# example of test cases\n",
    "assert type(answer_five()) == float, \"Q5: You should return a single number!\""
   ]
  },
  {
   "cell_type": "code",
   "execution_count": null,
   "metadata": {},
   "outputs": [],
   "source": [
    "# space for proffesor tests"
   ]
  },
  {
   "cell_type": "markdown",
   "metadata": {},
   "source": [
    "## Problem 6\n",
    "\n",
    "What __country__ has the _maximum % Renewable_ and what is the _percentage_?\n",
    "\n",
    "_This function should return a tuple with the name of the country and the percentage._"
   ]
  },
  {
   "cell_type": "code",
   "execution_count": null,
   "metadata": {},
   "outputs": [],
   "source": [
    "def answer_six():\n",
    "    # YOUR CODE HERE\n",
    "    raise NotImplementedError()"
   ]
  },
  {
   "cell_type": "code",
   "execution_count": null,
   "metadata": {},
   "outputs": [],
   "source": [
    "# example of test cases\n",
    "assert type(answer_six()) == tuple, \"Q6: You should return a tuple!\"\n",
    "assert type(answer_six()[0]) == str, \"Q6: The first element in your result should be the name of the country!\""
   ]
  },
  {
   "cell_type": "code",
   "execution_count": null,
   "metadata": {},
   "outputs": [],
   "source": [
    "# space for proffesor tests"
   ]
  },
  {
   "cell_type": "markdown",
   "metadata": {},
   "source": [
    "## Problem 7\n",
    "\n",
    "Create a new column that is the _ratio of Self-Citations to Total Citations_. \n",
    "What is the _maximum_ value for this new column, and what _country_ has the _highest ratio_?\n",
    "\n",
    "_This function should return a tuple with the name of the country and the ratio._"
   ]
  },
  {
   "cell_type": "code",
   "execution_count": null,
   "metadata": {},
   "outputs": [],
   "source": [
    "def answer_seven():\n",
    "    # YOUR CODE HERE\n",
    "    raise NotImplementedError()"
   ]
  },
  {
   "cell_type": "code",
   "execution_count": null,
   "metadata": {},
   "outputs": [],
   "source": [
    "# example of test cases\n",
    "assert type(answer_seven()) == tuple, \"Q7: You should return a tuple!\"\n",
    "assert type(answer_seven()[0]) == str, \"Q7: The first element in your result should be the name of the country!\""
   ]
  },
  {
   "cell_type": "code",
   "execution_count": null,
   "metadata": {},
   "outputs": [],
   "source": [
    "# space for proffesor tests"
   ]
  },
  {
   "cell_type": "markdown",
   "metadata": {},
   "source": [
    "## Problem 8\n",
    "\n",
    "Create a column that estimates the _population using Energy Supply_ and _Energy Supply per capita_. \n",
    "What is the _third_ most populous country according to this estimate?\n",
    "\n",
    "_This function should return the name of the country._"
   ]
  },
  {
   "cell_type": "code",
   "execution_count": null,
   "metadata": {},
   "outputs": [],
   "source": [
    "def answer_eight():\n",
    "    # YOUR CODE HERE\n",
    "    raise NotImplementedError()"
   ]
  },
  {
   "cell_type": "code",
   "execution_count": null,
   "metadata": {},
   "outputs": [],
   "source": [
    "# example of test cases\n",
    "assert type(answer_eight()) == str, \"Q8: You should return the name of the country!\""
   ]
  },
  {
   "cell_type": "code",
   "execution_count": null,
   "metadata": {},
   "outputs": [],
   "source": [
    "# space for proffesor tests"
   ]
  },
  {
   "cell_type": "markdown",
   "metadata": {},
   "source": [
    "## Problem 9\n",
    "\n",
    "Create a column that estimates the _number of citable documents per person_. \n",
    "\n",
    "What is the correlation between the _number of citable documents per capita_ and the _energy supply per capita_? Use the `.corr()` method, (Pearson's correlation).\n",
    "\n",
    "_This function should return a single number._"
   ]
  },
  {
   "cell_type": "code",
   "execution_count": null,
   "metadata": {},
   "outputs": [],
   "source": [
    "def answer_nine():\n",
    "    # YOUR CODE HERE\n",
    "    raise NotImplementedError()"
   ]
  },
  {
   "cell_type": "code",
   "execution_count": null,
   "metadata": {},
   "outputs": [],
   "source": [
    "# example of test cases\n",
    "assert answer_nine() >= -1. and answer_nine() <= 1., \"Q9: A valid correlation should between -1 to 1!\""
   ]
  },
  {
   "cell_type": "code",
   "execution_count": null,
   "metadata": {},
   "outputs": [],
   "source": [
    "# space for proffesor tests"
   ]
  },
  {
   "cell_type": "markdown",
   "metadata": {},
   "source": [
    "## Problem 10\n",
    "\n",
    "Create a new column with a $1$ if the _country's % Renewable_ value is at or above the median for all countries in the _top 15_, and a $0$ if the _country's % Renewable_ value is below the median.\n",
    "\n",
    "_This function should return a series named `high_renew` whose index is the country name sorted in ascending order of rank._"
   ]
  },
  {
   "cell_type": "code",
   "execution_count": null,
   "metadata": {},
   "outputs": [],
   "source": [
    "def answer_ten():\n",
    "    # YOUR CODE HERE\n",
    "    raise NotImplementedError()"
   ]
  },
  {
   "cell_type": "code",
   "execution_count": null,
   "metadata": {},
   "outputs": [],
   "source": [
    "# example of test cases\n",
    "assert type(answer_ten()) == pd.Series, \"Q10: You should return a Series!\""
   ]
  },
  {
   "cell_type": "code",
   "execution_count": null,
   "metadata": {},
   "outputs": [],
   "source": [
    "# space for proffesor tests"
   ]
  },
  {
   "cell_type": "markdown",
   "metadata": {},
   "source": [
    "## Problem 11\n",
    "\n",
    "Use the following dictionary to group the _Countries by Continent_, then create a DataFrame that displays the sample size (the number of countries in each continent bin), and the _sum_, _mean_, and _std deviation_ for the estimated population of each country.\n",
    "\n",
    "```python\n",
    "ContinentDict  = {\n",
    "    'China':'Asia', \n",
    "    'United States':'North America', \n",
    "    'Japan':'Asia', \n",
    "    'United Kingdom':'Europe', \n",
    "    'Russian Federation':'Europe', \n",
    "    'Canada':'North America', \n",
    "    'Germany':'Europe', \n",
    "    'India':'Asia',\n",
    "    'France':'Europe', \n",
    "    'South Korea':'Asia', \n",
    "    'Italy':'Europe', \n",
    "    'Spain':'Europe', \n",
    "    'Iran':'Asia',\n",
    "    'Australia':'Australia', \n",
    "    'Brazil':'South America'\n",
    "}\n",
    "```\n",
    "\n",
    "_This function should return a DataFrame with index named Continent `['Asia', 'Australia', 'Europe', 'North America', 'South America']` and columns `['size', 'sum', 'mean', 'std']`_"
   ]
  },
  {
   "cell_type": "code",
   "execution_count": null,
   "metadata": {},
   "outputs": [],
   "source": [
    "def answer_eleven():\n",
    "    # YOUR CODE HERE\n",
    "    raise NotImplementedError()"
   ]
  },
  {
   "cell_type": "code",
   "execution_count": null,
   "metadata": {},
   "outputs": [],
   "source": [
    "# example of test cases\n",
    "assert type(answer_eleven()) == pd.DataFrame, \"Q11: You should return a DataFrame!\"\n",
    "assert answer_eleven().shape[0] == 5, \"Q11: Wrong row numbers!\"\n",
    "assert answer_eleven().shape[1] == 4, \"Q11: Wrong column numbers!\""
   ]
  },
  {
   "cell_type": "code",
   "execution_count": null,
   "metadata": {},
   "outputs": [],
   "source": [
    "# space for proffesor tests"
   ]
  },
  {
   "cell_type": "markdown",
   "metadata": {},
   "source": [
    "## Problem 12\n",
    "\n",
    "Cut (check `.cut()` from Pandas) _% Renewable_ into $5$ bins, but in the same column. Group _Top15_ by the _Continent_, as well as these new _% Renewable_ bins. How many countries are in each of these groups? You could check `.size()` as aggregation in group by.\n",
    "\n",
    "_This function should return a Series with a MultiIndex of `Continent`, then the bins for `% Renewable` (in string datatype). Do not include groups with no countries._"
   ]
  },
  {
   "cell_type": "code",
   "execution_count": null,
   "metadata": {},
   "outputs": [],
   "source": [
    "def answer_twelve():\n",
    "    # YOUR CODE HERE\n",
    "    raise NotImplementedError()"
   ]
  },
  {
   "cell_type": "code",
   "execution_count": null,
   "metadata": {},
   "outputs": [],
   "source": [
    "# example of test cases\n",
    "assert type(answer_twelve()) == pd.Series, \"Q12: You should return a Series!\"\n",
    "assert len(answer_twelve()) == 25, \"Q12: Wrong result numbers!\""
   ]
  },
  {
   "cell_type": "code",
   "execution_count": null,
   "metadata": {},
   "outputs": [],
   "source": [
    "# space for proffesor tests"
   ]
  },
  {
   "cell_type": "markdown",
   "metadata": {},
   "source": [
    "## Problem 13\n",
    "\n",
    "Convert the _Population Estimate_ series to a string with thousands separator (using _dots_). Use all significant digits (do not round the results).\n",
    "\n",
    "e.g. 12345678.90 -> 12.345.678,90\n",
    "\n",
    "_This function should return a series `pop_est` whose index is the country name and whose values are the population estimate string_"
   ]
  },
  {
   "cell_type": "code",
   "execution_count": null,
   "metadata": {},
   "outputs": [],
   "source": [
    "def answer_thirteen():\n",
    "    # YOUR CODE HERE\n",
    "    raise NotImplementedError()"
   ]
  },
  {
   "cell_type": "code",
   "execution_count": null,
   "metadata": {},
   "outputs": [],
   "source": [
    "# example of test cases\n",
    "assert type(answer_thirteen()) == pd.Series, \"Q13: You should return a Series!\"\n",
    "assert len(answer_thirteen()) == 15, \"Q13: Wrong result numbers!\""
   ]
  },
  {
   "cell_type": "code",
   "execution_count": null,
   "metadata": {},
   "outputs": [],
   "source": [
    "# space for proffesor tests"
   ]
  }
 ],
 "metadata": {
  "kernelspec": {
   "display_name": "data_science_course",
   "language": "python",
   "name": "python3"
  },
  "language_info": {
   "codemirror_mode": {
    "name": "ipython",
    "version": 3
   },
   "file_extension": ".py",
   "mimetype": "text/x-python",
   "name": "python",
   "nbconvert_exporter": "python",
   "pygments_lexer": "ipython3",
   "version": "3.12.3"
  }
 },
 "nbformat": 4,
 "nbformat_minor": 2
}
