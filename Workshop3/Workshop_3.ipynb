{
 "cells": [
  {
   "cell_type": "markdown",
   "metadata": {},
   "source": [
    "## Problem 1\n",
    "\n",
    "The data for this problem comes from a subset of The National Centers for Environmental Information (NCEI) [Global Historical Climatology Network daily (GHCNd)](https://www.ncei.noaa.gov/products/land-based-station/global-historical-climatology-network-daily) (GHCN-Daily). The GHCN-Daily is comprised of daily climate records from thousands of land surface stations across the globe - it's a wonderfully large dataset to play with! In particular, you will be asked to use data from the Ann Arbor Michigan location, and this is stored in the file: [assets/fb441e62df2d58994928907a91895ec62c2c42e6cd075c2700843b89.csv](assets/fb441e62df2d58994928907a91895ec62c2c42e6cd075c2700843b89.csv).\n",
    "\n",
    "Each row in this datafile corresponds to a single observation from a weather station, and has the following variables:\n",
    "\n",
    "- __id__: station identification code\n",
    "- __date__: date in YYYY-MM-DD format (e.g. 2012-01-24 = January 24, 2012)\n",
    "- __element__: indicator of element type\n",
    "    - _TMAX_: Maximum temperature (tenths of degrees F)\n",
    "    - _TMIN_: Minimum temperature (tenths of degrees F)\n",
    "- __value__: data value for element (tenths of degrees F)\n",
    "\n",
    "For this assignment, you must:\n",
    "\n",
    "1. Read the documentation and familiarize yourself with the dataset, then write a python notebook which plots line graphs of the record high and record low temperatures by day of the year over the period 2005-2014. The area between the record high and record low temperatures for each day should be shaded.\n",
    "2. Overlay a scatter of the 2015 data for any points (highs and lows) for which the ten year record (2005-2014) record high or record low was broken in 2015. (Based on the graph, do you think extreme weather is getting more frequent in 2015?)\n",
    "3. Watch out for leap days (i.e. February 29th), it is reasonable to remove these points from the dataset for the purpose of this visualization.\n",
    "4. Make the visual nice! Leverage principles from the first module in this course when developing your solution. Consider issues such as legends, labels, and chart junk.\n",
    "\n",
    "Your final output should looks like next one:\n",
    "\n",
    "![](chris_sketch.png)"
   ]
  },
  {
   "cell_type": "markdown",
   "metadata": {},
   "source": [
    "# Workshop 3\n",
    "\n",
    "After you learn about _regular expressions_ and _data manipulation_, it is momment to validate how many do you learn about __data visualization__.  "
   ]
  },
  {
   "cell_type": "markdown",
   "metadata": {},
   "source": [
    "### Step 1.1\n",
    "\n",
    "Load the dataset and transform the data into _Celsius_ (refer to documentation). Then extract all of the rows which have minimum or maximum temperatures, each one in a separate dataframe.\n",
    "\n",
    "__Hint: when I did this step I had two DataFrame objects, each with ~80,000 entries in it__"
   ]
  },
  {
   "cell_type": "code",
   "execution_count": 123,
   "metadata": {},
   "outputs": [
    {
     "name": "stdout",
     "output_type": "stream",
     "text": [
      "                 ID        Date Element  Data_Value\n",
      "0       USW00094889  2014-11-12    TMAX   -5.555556\n",
      "2       USC00200032  2008-05-26    TMAX  136.666667\n",
      "3       USC00205563  2005-11-11    TMAX   59.444444\n",
      "4       USC00200230  2014-02-27    TMAX  -76.666667\n",
      "5       USW00014833  2010-10-01    TMAX   90.000000\n",
      "...             ...         ...     ...         ...\n",
      "165074  USW00094889  2009-07-09    TMAX  127.222222\n",
      "165076  USC00205050  2013-09-29    TMAX  127.222222\n",
      "165080  USC00205822  2015-06-09    TMAX  124.444444\n",
      "165081  USC00205822  2009-10-06    TMAX   75.000000\n",
      "165082  USC00205050  2014-07-14    TMAX  139.444444\n",
      "\n",
      "[83063 rows x 4 columns]\n"
     ]
    }
   ],
   "source": [
    "import pandas as pd\n",
    "\n",
    "def farenheit_to_celsius(farenheit):\n",
    "    # YOUR CODE HERE\n",
    "    return ((farenheit-32)*5)/9\n",
    "\n",
    "# load the data\n",
    "data = pd.read_csv(\"assets/fb441e62df2d58994928907a91895ec62c2c42e6cd075c2700843b89.csv\",)\n",
    "data[\"Data_Value\"] = data[\"Data_Value\"].apply(lambda x: farenheit_to_celsius(x))\n",
    "# YOUR CODE HERE\n",
    "temperature_min_df = data[data[\"Element\"]==\"TMIN\"]\n",
    "temperature_max_df = data[data[\"Element\"]==\"TMAX\"]\n",
    "\n",
    "print(temperature_max_df)"
   ]
  },
  {
   "cell_type": "code",
   "execution_count": null,
   "metadata": {},
   "outputs": [],
   "source": [
    "# space for proffessor's tests\n"
   ]
  },
  {
   "cell_type": "markdown",
   "metadata": {},
   "source": [
    "### Step 1.2\n",
    "\n",
    "In order to visualize the data we would _plot_ the __min__ and _max_ data for each day of the year between the years $2005$ and $2014$ across all weather stations. But we also need to find out _when_ the __min__ or __max__ temperature in $2015$ falls below the min or rises above the max for the _previous decade_.\n",
    "\n",
    "If you did _Step 1.1_ you have _two Series_ objects with _min_ and _max_ times for the years $2005$ through $2015$. You can use Pandas `groupby` to create _max_ and _min_ temperature _Series_ objects across all weather stations for each day of these years, and you can deal with the records for _February 29_ (the leap year) by dropping them.\n",
    "\n",
    "__Hint: When I finished this step, I had two DataFrame objects, each with exactly 4015 observations in them__"
   ]
  },
  {
   "cell_type": "code",
   "execution_count": 130,
   "metadata": {},
   "outputs": [
    {
     "name": "stdout",
     "output_type": "stream",
     "text": [
      "                 ID        Date Element  Data_Value\n",
      "123332  USC00205563  2005-05-12    TMAX   77.777778\n",
      "123350  USC00200842  2005-05-12    TMAX   99.444444\n",
      "123382  USC00208080  2005-05-12    TMAX   62.222222\n",
      "124468  USC00205451  2005-05-12    TMAX   99.444444\n",
      "124768  USC00200230  2005-05-12    TMAX   59.444444\n",
      "126240  USW00094889  2005-05-12    TMAX   56.111111\n",
      "126872  USW00004848  2005-05-12    TMAX   41.111111\n",
      "127264  USC00207308  2005-05-12    TMAX   99.444444\n",
      "127799  USC00200228  2005-05-12    TMAX   96.666667\n",
      "127875  USC00207312  2005-05-12    TMAX   96.666667\n",
      "128367  USC00208202  2005-05-12    TMAX   96.666667\n",
      "135921  USC00205050  2005-05-12    TMAX   62.222222\n",
      "145603  USW00014833  2005-05-12    TMAX   62.222222\n",
      "145705  USW00014853  2005-05-12    TMAX   59.444444\n",
      "146025  USC00202308  2005-05-12    TMAX  102.777778\n",
      "146364  USC00207320  2005-05-12    TMAX  108.888889\n",
      "146536  USC00205822  2005-05-12    TMAX  111.666667\n"
     ]
    }
   ],
   "source": [
    "# create a DataFrame of maximum temperature by date\n",
    "# YOUR CODE HERE\n",
    "temperature_max_df = temperature_max_df[~temperature_max_df['Date'].str.endswith('02-29')]\n",
    "#temperature_max_per_day_df = temperature_max_df.reset_index().groupby([\"Date\",\"Data_Value\"],observed=False)\n",
    "\n",
    "# create a DataFrame of minimum temperatures by date\n",
    "# YOUR CODE HERE    \n",
    "temperature_min_per_day_df = ..."
   ]
  },
  {
   "cell_type": "code",
   "execution_count": null,
   "metadata": {},
   "outputs": [],
   "source": [
    "# space for proffessor's tests"
   ]
  },
  {
   "cell_type": "markdown",
   "metadata": {},
   "source": [
    "### Step 1.3\n",
    "Now that you have grouped the _daily_ __max__ and __min__ temperatures for each day of the years $2005$ through $2015$, you can separate out the data for $2015$. Then you can use the Pandas `groupby` function to find the __max__ and __min__ of the temperature data for each __day of the year__ for the $2005-2014$ data.\n",
    "\n",
    "__Hint: At the end of this step I had two DataFrames, one of maximum and the other of minimum values, which each had 365 observations in them. I also had another pair of similar DataFrames but only for the year 2015.__"
   ]
  },
  {
   "cell_type": "code",
   "execution_count": null,
   "metadata": {},
   "outputs": [],
   "source": [
    "# calculate the minimum and maximum values for the day of the year for 2005 through 2014\n",
    "# YOUR CODE HERE\n",
    "temperature_max_day_year_df = ...\n",
    "\n",
    "temperature_min_day_year_df = ...\n",
    "\n",
    "# calculate the minimum and maximum values for the years 2015\n",
    "# YOUR CODE HERE\n",
    "temperature_max_per_day_2015_df = ...\n",
    "\n",
    "# YOUR CODE HERE\n",
    "temperature_min_per_day_2015_df = ..."
   ]
  },
  {
   "cell_type": "code",
   "execution_count": null,
   "metadata": {},
   "outputs": [],
   "source": [
    "# space for proffessor's tests"
   ]
  },
  {
   "cell_type": "markdown",
   "metadata": {},
   "source": [
    "### Step 1.4\n",
    "\n",
    "Now it's time to plot! You need to explore _matplotlib_ in order to plot line graphs of the _min_ and _max_ temperatures for the years $2005$ through $2014$ and to scatter plot __only__ the daily $2015$ temperatures that exceeded those values."
   ]
  },
  {
   "cell_type": "code",
   "execution_count": 3,
   "metadata": {},
   "outputs": [
    {
     "ename": "TypeError",
     "evalue": "arrow() missing 4 required positional arguments: 'x', 'y', 'dx', and 'dy'",
     "output_type": "error",
     "traceback": [
      "\u001b[0;31m---------------------------------------------------------------------------\u001b[0m",
      "\u001b[0;31mTypeError\u001b[0m                                 Traceback (most recent call last)",
      "Cell \u001b[0;32mIn[3], line 5\u001b[0m\n\u001b[1;32m      2\u001b[0m \u001b[38;5;28;01mfrom\u001b[39;00m \u001b[38;5;21;01mcalendar\u001b[39;00m \u001b[38;5;28;01mimport\u001b[39;00m month_abbr\n\u001b[1;32m      4\u001b[0m fig \u001b[38;5;241m=\u001b[39m plt\u001b[38;5;241m.\u001b[39mfigure(figsize\u001b[38;5;241m=\u001b[39m(\u001b[38;5;241m15\u001b[39m, \u001b[38;5;241m10\u001b[39m))\n\u001b[0;32m----> 5\u001b[0m \u001b[43mplt\u001b[49m\u001b[38;5;241;43m.\u001b[39;49m\u001b[43marrow\u001b[49m\u001b[43m(\u001b[49m\u001b[43m)\u001b[49m\n\u001b[1;32m      6\u001b[0m \u001b[38;5;66;03m# YOUR CODE HERE\u001b[39;00m\n",
      "\u001b[0;31mTypeError\u001b[0m: arrow() missing 4 required positional arguments: 'x', 'y', 'dx', and 'dy'"
     ]
    },
    {
     "data": {
      "text/plain": [
       "<Figure size 1500x1000 with 0 Axes>"
      ]
     },
     "metadata": {},
     "output_type": "display_data"
    }
   ],
   "source": [
    "import matplotlib.pyplot as plt\n",
    "from calendar import month_abbr\n",
    "\n",
    "fig = plt.figure(figsize=(15, 10))\n",
    "# YOUR CODE HERE"
   ]
  }
 ],
 "metadata": {
  "kernelspec": {
   "display_name": "data_science_course",
   "language": "python",
   "name": "python3"
  },
  "language_info": {
   "codemirror_mode": {
    "name": "ipython",
    "version": 3
   },
   "file_extension": ".py",
   "mimetype": "text/x-python",
   "name": "python",
   "nbconvert_exporter": "python",
   "pygments_lexer": "ipython3",
   "version": "3.12.3"
  }
 },
 "nbformat": 4,
 "nbformat_minor": 2
}
